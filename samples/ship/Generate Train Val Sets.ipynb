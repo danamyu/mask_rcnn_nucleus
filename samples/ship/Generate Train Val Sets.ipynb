{
 "cells": [
  {
   "cell_type": "code",
   "execution_count": 8,
   "metadata": {
    "collapsed": true
   },
   "outputs": [],
   "source": [
    "import os\n",
    "import random\n",
    "import pandas as pd\n",
    "import numpy as np"
   ]
  },
  {
   "cell_type": "code",
   "execution_count": 9,
   "metadata": {
    "collapsed": false
   },
   "outputs": [],
   "source": [
    "train_ship_segmentations_df = pd.read_csv(os.path.join(\"./datasets/train_val/train_ship_segmentations.csv\"))"
   ]
  },
  {
   "cell_type": "code",
   "execution_count": 15,
   "metadata": {
    "collapsed": false
   },
   "outputs": [
    {
     "name": "stdout",
     "output_type": "stream",
     "text": [
      "Total (131030, 2)\n",
      "Train 104773\n",
      "Validation 26257\n"
     ]
    }
   ],
   "source": [
    "msk = np.random.rand(len(train_ship_segmentations_df)) < 0.8\n",
    "\n",
    "train = train_ship_segmentations_df[msk]\n",
    "test = train_ship_segmentations_df[~msk]\n",
    "\n",
    "print(\"Total\", train_ship_segmentations_df.shape)\n",
    "print(\"Train\",len(train))\n",
    "print(\"Validation\",len(test))"
   ]
  },
  {
   "cell_type": "code",
   "execution_count": 19,
   "metadata": {
    "collapsed": false
   },
   "outputs": [],
   "source": [
    "#  Move train set\n",
    "for index, row in train.iterrows():\n",
    "    image_id = row[\"ImageId\"]\n",
    "    old_path = \"./datasets/train_val/{}\".format(image_id)\n",
    "    new_path = \"./datasets/train/{}\".format(image_id)\n",
    "    if os.path.isfile(old_path):\n",
    "        os.rename(old_path, new_path)\n"
   ]
  },
  {
   "cell_type": "code",
   "execution_count": 20,
   "metadata": {
    "collapsed": true
   },
   "outputs": [],
   "source": [
    "# Move val set\n",
    "for index, row in test.iterrows():\n",
    "    image_id = row[\"ImageId\"]\n",
    "    old_path = \"./datasets/train_val/{}\".format(image_id)\n",
    "    new_path = \"./datasets/val/{}\".format(image_id)\n",
    "    if os.path.isfile(old_path):\n",
    "        os.rename(old_path, new_path)"
   ]
  },
  {
   "cell_type": "code",
   "execution_count": 25,
   "metadata": {
    "collapsed": false
   },
   "outputs": [
    {
     "name": "stdout",
     "output_type": "stream",
     "text": [
      "1\n",
      "85100\n",
      "18970\n"
     ]
    }
   ],
   "source": [
    "# Count files\n",
    "path, dirs, files = next(os.walk(\"./datasets/train_val\"))\n",
    "file_count = len(files)\n",
    "print(file_count)\n",
    "\n",
    "path, dirs, files = next(os.walk(\"./datasets/train\"))\n",
    "file_count = len(files)\n",
    "print(file_count)\n",
    "\n",
    "\n",
    "path, dirs, files = next(os.walk(\"./datasets/val\"))\n",
    "file_count = len(files)\n",
    "print(file_count)\n"
   ]
  },
  {
   "cell_type": "code",
   "execution_count": 61,
   "metadata": {
    "collapsed": true
   },
   "outputs": [],
   "source": [
    "#  Save new csv files\n",
    "train = train.dropna()\n",
    "test = test.dropna()\n",
    "\n",
    "train.to_csv(\"./datasets/train/train_ship_segmentations.csv\", index=False)\n",
    "test.to_csv(\"./datasets/val/val_ship_segmentations.csv\", index=False)"
   ]
  },
  {
   "cell_type": "code",
   "execution_count": 62,
   "metadata": {
    "collapsed": false
   },
   "outputs": [
    {
     "name": "stdout",
     "output_type": "stream",
     "text": [
      "train_segs (44766, 2)\n",
      "val_segs (11264, 2)\n"
     ]
    }
   ],
   "source": [
    "# Verify new vsc files\n",
    "train_segs = pd.read_csv(os.path.join(\"./datasets/train/train_ship_segmentations.csv\"))\n",
    "val_segs = pd.read_csv(os.path.join(\"./datasets/val/val_ship_segmentations.csv\"))\n",
    "\n",
    "\n",
    "print(\"train_segs\", train_segs.shape)\n",
    "print(\"val_segs\", val_segs.shape)\n"
   ]
  },
  {
   "cell_type": "code",
   "execution_count": 63,
   "metadata": {
    "collapsed": false
   },
   "outputs": [
    {
     "data": {
      "text/html": [
       "<div>\n",
       "<style>\n",
       "    .dataframe thead tr:only-child th {\n",
       "        text-align: right;\n",
       "    }\n",
       "\n",
       "    .dataframe thead th {\n",
       "        text-align: left;\n",
       "    }\n",
       "\n",
       "    .dataframe tbody tr th {\n",
       "        vertical-align: top;\n",
       "    }\n",
       "</style>\n",
       "<table border=\"1\" class=\"dataframe\">\n",
       "  <thead>\n",
       "    <tr style=\"text-align: right;\">\n",
       "      <th></th>\n",
       "      <th>ImageId</th>\n",
       "      <th>EncodedPixels</th>\n",
       "    </tr>\n",
       "  </thead>\n",
       "  <tbody>\n",
       "    <tr>\n",
       "      <th>0</th>\n",
       "      <td>00021ddc3.jpg</td>\n",
       "      <td>101361 1 102128 3 102896 4 103663 6 104430 9 1...</td>\n",
       "    </tr>\n",
       "    <tr>\n",
       "      <th>1</th>\n",
       "      <td>00021ddc3.jpg</td>\n",
       "      <td>95225 2 95992 5 96760 7 97527 9 98294 9 99062 ...</td>\n",
       "    </tr>\n",
       "    <tr>\n",
       "      <th>2</th>\n",
       "      <td>00021ddc3.jpg</td>\n",
       "      <td>74444 4 75212 4 75980 4 76748 4 77517 3 78285 ...</td>\n",
       "    </tr>\n",
       "    <tr>\n",
       "      <th>3</th>\n",
       "      <td>00021ddc3.jpg</td>\n",
       "      <td>150423 2 151190 3 151958 3 152726 4 153495 3 1...</td>\n",
       "    </tr>\n",
       "    <tr>\n",
       "      <th>4</th>\n",
       "      <td>00021ddc3.jpg</td>\n",
       "      <td>139644 2 140408 6 141174 9 141942 9 142711 6 1...</td>\n",
       "    </tr>\n",
       "  </tbody>\n",
       "</table>\n",
       "</div>"
      ],
      "text/plain": [
       "         ImageId                                      EncodedPixels\n",
       "0  00021ddc3.jpg  101361 1 102128 3 102896 4 103663 6 104430 9 1...\n",
       "1  00021ddc3.jpg  95225 2 95992 5 96760 7 97527 9 98294 9 99062 ...\n",
       "2  00021ddc3.jpg  74444 4 75212 4 75980 4 76748 4 77517 3 78285 ...\n",
       "3  00021ddc3.jpg  150423 2 151190 3 151958 3 152726 4 153495 3 1...\n",
       "4  00021ddc3.jpg  139644 2 140408 6 141174 9 141942 9 142711 6 1..."
      ]
     },
     "execution_count": 63,
     "metadata": {},
     "output_type": "execute_result"
    }
   ],
   "source": [
    "train_segs.head()"
   ]
  },
  {
   "cell_type": "code",
   "execution_count": null,
   "metadata": {
    "collapsed": false
   },
   "outputs": [],
   "source": []
  },
  {
   "cell_type": "code",
   "execution_count": null,
   "metadata": {
    "collapsed": true
   },
   "outputs": [],
   "source": []
  }
 ],
 "metadata": {
  "kernelspec": {
   "display_name": "Python 3",
   "language": "python",
   "name": "python3"
  },
  "language_info": {
   "codemirror_mode": {
    "name": "ipython",
    "version": 3
   },
   "file_extension": ".py",
   "mimetype": "text/x-python",
   "name": "python",
   "nbconvert_exporter": "python",
   "pygments_lexer": "ipython3",
   "version": "3.6.3"
  }
 },
 "nbformat": 4,
 "nbformat_minor": 2
}

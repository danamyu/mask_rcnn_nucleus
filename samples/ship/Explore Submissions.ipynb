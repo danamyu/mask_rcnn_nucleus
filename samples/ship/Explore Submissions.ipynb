{
 "cells": [
  {
   "cell_type": "code",
   "execution_count": 2,
   "metadata": {
    "collapsed": true
   },
   "outputs": [],
   "source": [
    "import pandas as pd\n",
    "import numpy as np\n",
    "import os\n",
    "import matplotlib.pyplot as plt\n",
    "\n",
    "%matplotlib inline "
   ]
  },
  {
   "cell_type": "markdown",
   "metadata": {},
   "source": [
    "## Sample Submission"
   ]
  },
  {
   "cell_type": "code",
   "execution_count": null,
   "metadata": {
    "collapsed": false
   },
   "outputs": [],
   "source": [
    "sample_sub = pd.read_csv(\"./datasets/train_val/sample_submission.csv\")"
   ]
  },
  {
   "cell_type": "code",
   "execution_count": null,
   "metadata": {
    "collapsed": false
   },
   "outputs": [],
   "source": [
    "sample_sub.describe()"
   ]
  },
  {
   "cell_type": "code",
   "execution_count": null,
   "metadata": {
    "collapsed": false
   },
   "outputs": [],
   "source": [
    "sample_sub[sample_sub[\"ImageId\"] == \"9d3cd0de1.jpg\"]"
   ]
  },
  {
   "cell_type": "code",
   "execution_count": null,
   "metadata": {
    "collapsed": false
   },
   "outputs": [],
   "source": [
    "# 14 unwanted test images\n",
    "unwanted_test_images = ['13703f040.jpg',\n",
    " '14715c06d.jpg',\n",
    " '33e0ff2d5.jpg',\n",
    " '4d4e09f2a.jpg',\n",
    " '877691df8.jpg',\n",
    " '8b909bb20.jpg',\n",
    " 'a8d99130e.jpg',\n",
    " 'ad55c3143.jpg',\n",
    " 'c8260c541.jpg',\n",
    " 'd6c7f17c7.jpg',\n",
    " 'dc3e7c901.jpg',\n",
    " 'e44dffe88.jpg',\n",
    " 'ef87bad36.jpg',\n",
    " 'f083256d8.jpg',]"
   ]
  },
  {
   "cell_type": "code",
   "execution_count": null,
   "metadata": {
    "collapsed": false
   },
   "outputs": [],
   "source": [
    "print(\"Submission ids\", len(sample_sub[\"ImageId\"].tolist()))\n",
    "print(\"Unwanted\", len(unwanted_test_images))\n",
    "\n",
    "# Check if any unwanted images are in sample submission csv\n",
    "len(np.setdiff1d(sample_sub['ImageId'].unique(), unwanted_test_images, assume_unique=True))\n"
   ]
  },
  {
   "cell_type": "markdown",
   "metadata": {},
   "source": [
    "## Train Ship Segmentations"
   ]
  },
  {
   "cell_type": "code",
   "execution_count": null,
   "metadata": {
    "collapsed": false
   },
   "outputs": [],
   "source": [
    "train_ship_segmentations_df = pd.read_csv(\"./datasets/train_val/train_ship_segmentations.csv\")\n",
    "print(train_ship_segmentations_df.count())\n",
    "train_ship_segmentations_df.describe()"
   ]
  },
  {
   "cell_type": "code",
   "execution_count": null,
   "metadata": {
    "collapsed": false
   },
   "outputs": [],
   "source": [
    "print(\"Images with no ship\")\n",
    "train_ship_segmentations_df[train_ship_segmentations_df[\"EncodedPixels\"].isnull()].describe()"
   ]
  },
  {
   "cell_type": "code",
   "execution_count": null,
   "metadata": {
    "collapsed": false
   },
   "outputs": [],
   "source": [
    "# Corrupted image\n",
    "train_ship_segmentations_df.loc[train_ship_segmentations_df[\"ImageId\"] == \"6384c3e78.jpg\"]"
   ]
  },
  {
   "cell_type": "code",
   "execution_count": null,
   "metadata": {
    "collapsed": false
   },
   "outputs": [],
   "source": [
    "# Remove corrupted image\n",
    "train_ship_segmentations_df = train_ship_segmentations_df.loc[train_ship_segmentations_df[\"ImageId\"] != \"6384c3e78.jpg\"]\n",
    "train_ship_segmentations_df.describe()                                                   "
   ]
  },
  {
   "cell_type": "code",
   "execution_count": null,
   "metadata": {
    "collapsed": false
   },
   "outputs": [],
   "source": [
    "train_ship_segmentations_df_null = train_ship_segmentations_df[\"EncodedPixels\"].isnull()\n",
    "nulls_df = train_ship_segmentations_df[~train_ship_segmentations_df_null]\n",
    "nulls_sample_df = nulls_df.sample(frac=0.99) # remove frac % of empty images\n",
    "train_ship_segmentations_df = train_ship_segmentations_df.loc[~train_ship_segmentations_df[\"ImageId\"].isin(nulls_sample_df[\"ImageId\"])]\n",
    "\n",
    "# train_ship_segmentations_df = train_ship_segmentations_df.loc[train_ship_segmentations_df[\"EncodedPixels\"].isnull()].sample(frac=0.5)\n",
    "train_ship_segmentations_df.shape"
   ]
  },
  {
   "cell_type": "markdown",
   "metadata": {
    "collapsed": false
   },
   "source": [
    "## Actual Submission"
   ]
  },
  {
   "cell_type": "code",
   "execution_count": 4,
   "metadata": {
    "collapsed": false
   },
   "outputs": [
    {
     "name": "stdout",
     "output_type": "stream",
     "text": [
      "         ImageId                                      EncodedPixels\n",
      "0  0001124c7.jpg                                                NaN\n",
      "1  000194a2d.jpg  362787 4 363554 6 364322 6 365090 7 365858 8 3...\n",
      "2  000194a2d.jpg  6998 54 7062 9 7741 103 8467 3 8482 133 9232 1...\n",
      "3  0001b1832.jpg                                                NaN\n",
      "4  00052ed46.jpg                                                NaN\n"
     ]
    },
    {
     "data": {
      "text/html": [
       "<div>\n",
       "<style>\n",
       "    .dataframe thead tr:only-child th {\n",
       "        text-align: right;\n",
       "    }\n",
       "\n",
       "    .dataframe thead th {\n",
       "        text-align: left;\n",
       "    }\n",
       "\n",
       "    .dataframe tbody tr th {\n",
       "        vertical-align: top;\n",
       "    }\n",
       "</style>\n",
       "<table border=\"1\" class=\"dataframe\">\n",
       "  <thead>\n",
       "    <tr style=\"text-align: right;\">\n",
       "      <th></th>\n",
       "      <th>ImageId</th>\n",
       "      <th>EncodedPixels</th>\n",
       "    </tr>\n",
       "  </thead>\n",
       "  <tbody>\n",
       "    <tr>\n",
       "      <th>count</th>\n",
       "      <td>99150</td>\n",
       "      <td>28208</td>\n",
       "    </tr>\n",
       "    <tr>\n",
       "      <th>unique</th>\n",
       "      <td>88486</td>\n",
       "      <td>28208</td>\n",
       "    </tr>\n",
       "    <tr>\n",
       "      <th>top</th>\n",
       "      <td>ac74a32be.jpg</td>\n",
       "      <td>285545 3 286312 6 287078 8 287844 10 288611 11...</td>\n",
       "    </tr>\n",
       "    <tr>\n",
       "      <th>freq</th>\n",
       "      <td>14</td>\n",
       "      <td>1</td>\n",
       "    </tr>\n",
       "  </tbody>\n",
       "</table>\n",
       "</div>"
      ],
      "text/plain": [
       "              ImageId                                      EncodedPixels\n",
       "count           99150                                              28208\n",
       "unique          88486                                              28208\n",
       "top     ac74a32be.jpg  285545 3 286312 6 287078 8 287844 10 288611 11...\n",
       "freq               14                                                  1"
      ]
     },
     "execution_count": 4,
     "metadata": {},
     "output_type": "execute_result"
    }
   ],
   "source": [
    "submission_1 = pd.read_csv(\"~/Downloads/submission_20180820T0329.csv\")\n",
    "submission = pd.read_csv(\"~/Downloads/submission_20180827T0655.csv\")\n",
    "print(submission_1.head())\n",
    "submission_1.describe()\n"
   ]
  },
  {
   "cell_type": "code",
   "execution_count": 5,
   "metadata": {
    "collapsed": false
   },
   "outputs": [
    {
     "name": "stdout",
     "output_type": "stream",
     "text": [
      "         ImageId                                      EncodedPixels\n",
      "0  0001124c7.jpg                                                NaN\n",
      "1  000194a2d.jpg  12293 26 12363 5 12376 5 12392 29 13060 133 13...\n",
      "2  000194a2d.jpg  555071 30 555837 44 555917 5 556604 87 557372 ...\n",
      "3  0001b1832.jpg                                                NaN\n",
      "4  00052ed46.jpg                                                NaN\n"
     ]
    },
    {
     "data": {
      "text/html": [
       "<div>\n",
       "<style>\n",
       "    .dataframe thead tr:only-child th {\n",
       "        text-align: right;\n",
       "    }\n",
       "\n",
       "    .dataframe thead th {\n",
       "        text-align: left;\n",
       "    }\n",
       "\n",
       "    .dataframe tbody tr th {\n",
       "        vertical-align: top;\n",
       "    }\n",
       "</style>\n",
       "<table border=\"1\" class=\"dataframe\">\n",
       "  <thead>\n",
       "    <tr style=\"text-align: right;\">\n",
       "      <th></th>\n",
       "      <th>ImageId</th>\n",
       "      <th>EncodedPixels</th>\n",
       "    </tr>\n",
       "  </thead>\n",
       "  <tbody>\n",
       "    <tr>\n",
       "      <th>count</th>\n",
       "      <td>91941</td>\n",
       "      <td>14438</td>\n",
       "    </tr>\n",
       "    <tr>\n",
       "      <th>unique</th>\n",
       "      <td>88486</td>\n",
       "      <td>14438</td>\n",
       "    </tr>\n",
       "    <tr>\n",
       "      <th>top</th>\n",
       "      <td>4e3f9df22.jpg</td>\n",
       "      <td>120655 14 120671 1 121421 21 122189 22 122957 ...</td>\n",
       "    </tr>\n",
       "    <tr>\n",
       "      <th>freq</th>\n",
       "      <td>10</td>\n",
       "      <td>1</td>\n",
       "    </tr>\n",
       "  </tbody>\n",
       "</table>\n",
       "</div>"
      ],
      "text/plain": [
       "              ImageId                                      EncodedPixels\n",
       "count           91941                                              14438\n",
       "unique          88486                                              14438\n",
       "top     4e3f9df22.jpg  120655 14 120671 1 121421 21 122189 22 122957 ...\n",
       "freq               10                                                  1"
      ]
     },
     "execution_count": 5,
     "metadata": {},
     "output_type": "execute_result"
    }
   ],
   "source": [
    "print(submission.head())\n",
    "submission.describe()"
   ]
  },
  {
   "cell_type": "code",
   "execution_count": 6,
   "metadata": {
    "collapsed": false
   },
   "outputs": [
    {
     "name": "stdout",
     "output_type": "stream",
     "text": [
      "0.7155017650025214\n"
     ]
    },
    {
     "data": {
      "text/html": [
       "<div>\n",
       "<style>\n",
       "    .dataframe thead tr:only-child th {\n",
       "        text-align: right;\n",
       "    }\n",
       "\n",
       "    .dataframe thead th {\n",
       "        text-align: left;\n",
       "    }\n",
       "\n",
       "    .dataframe tbody tr th {\n",
       "        vertical-align: top;\n",
       "    }\n",
       "</style>\n",
       "<table border=\"1\" class=\"dataframe\">\n",
       "  <thead>\n",
       "    <tr style=\"text-align: right;\">\n",
       "      <th></th>\n",
       "      <th>ImageId</th>\n",
       "      <th>EncodedPixels</th>\n",
       "    </tr>\n",
       "  </thead>\n",
       "  <tbody>\n",
       "    <tr>\n",
       "      <th>count</th>\n",
       "      <td>70942</td>\n",
       "      <td>0.0</td>\n",
       "    </tr>\n",
       "    <tr>\n",
       "      <th>unique</th>\n",
       "      <td>70942</td>\n",
       "      <td>0.0</td>\n",
       "    </tr>\n",
       "    <tr>\n",
       "      <th>top</th>\n",
       "      <td>ce7589172.jpg</td>\n",
       "      <td>NaN</td>\n",
       "    </tr>\n",
       "    <tr>\n",
       "      <th>freq</th>\n",
       "      <td>1</td>\n",
       "      <td>NaN</td>\n",
       "    </tr>\n",
       "  </tbody>\n",
       "</table>\n",
       "</div>"
      ],
      "text/plain": [
       "              ImageId  EncodedPixels\n",
       "count           70942            0.0\n",
       "unique          70942            0.0\n",
       "top     ce7589172.jpg            NaN\n",
       "freq                1            NaN"
      ]
     },
     "execution_count": 6,
     "metadata": {},
     "output_type": "execute_result"
    }
   ],
   "source": [
    "print(70942/99150)\n",
    "submission_1[submission_1[\"EncodedPixels\"].isnull()].describe()"
   ]
  },
  {
   "cell_type": "code",
   "execution_count": 8,
   "metadata": {
    "collapsed": false
   },
   "outputs": [
    {
     "name": "stdout",
     "output_type": "stream",
     "text": [
      "0.8429645098487073\n"
     ]
    },
    {
     "data": {
      "text/html": [
       "<div>\n",
       "<style>\n",
       "    .dataframe thead tr:only-child th {\n",
       "        text-align: right;\n",
       "    }\n",
       "\n",
       "    .dataframe thead th {\n",
       "        text-align: left;\n",
       "    }\n",
       "\n",
       "    .dataframe tbody tr th {\n",
       "        vertical-align: top;\n",
       "    }\n",
       "</style>\n",
       "<table border=\"1\" class=\"dataframe\">\n",
       "  <thead>\n",
       "    <tr style=\"text-align: right;\">\n",
       "      <th></th>\n",
       "      <th>ImageId</th>\n",
       "      <th>EncodedPixels</th>\n",
       "    </tr>\n",
       "  </thead>\n",
       "  <tbody>\n",
       "    <tr>\n",
       "      <th>count</th>\n",
       "      <td>77503</td>\n",
       "      <td>0.0</td>\n",
       "    </tr>\n",
       "    <tr>\n",
       "      <th>unique</th>\n",
       "      <td>77503</td>\n",
       "      <td>0.0</td>\n",
       "    </tr>\n",
       "    <tr>\n",
       "      <th>top</th>\n",
       "      <td>ce7589172.jpg</td>\n",
       "      <td>NaN</td>\n",
       "    </tr>\n",
       "    <tr>\n",
       "      <th>freq</th>\n",
       "      <td>1</td>\n",
       "      <td>NaN</td>\n",
       "    </tr>\n",
       "  </tbody>\n",
       "</table>\n",
       "</div>"
      ],
      "text/plain": [
       "              ImageId  EncodedPixels\n",
       "count           77503            0.0\n",
       "unique          77503            0.0\n",
       "top     ce7589172.jpg            NaN\n",
       "freq                1            NaN"
      ]
     },
     "execution_count": 8,
     "metadata": {},
     "output_type": "execute_result"
    }
   ],
   "source": [
    "print(77503/91941)\n",
    "submission[submission[\"EncodedPixels\"].isnull()].describe()\n"
   ]
  },
  {
   "cell_type": "code",
   "execution_count": 9,
   "metadata": {
    "collapsed": false
   },
   "outputs": [
    {
     "data": {
      "text/plain": [
       "<matplotlib.axes._subplots.AxesSubplot at 0x11c852fd0>"
      ]
     },
     "execution_count": 9,
     "metadata": {},
     "output_type": "execute_result"
    },
    {
     "data": {
      "image/png": "[encoded data removed]",
      "text/plain": [
       "<Figure size 432x288 with 1 Axes>"
      ]
     },
     "metadata": {},
     "output_type": "display_data"
    }
   ],
   "source": [
    "submission['ships'] = submission['EncodedPixels'].map(lambda c_row: 1 if isinstance(c_row, str) else 0)\n",
    "unique_img_ids = submission.groupby('ImageId').agg({'ships': 'sum'}).reset_index()\n",
    "unique_img_ids['has_ship'] = unique_img_ids['ships'].map(lambda x: 1.0 if x>0 else 0.0)\n",
    "unique_img_ids['has_ship_vec'] = unique_img_ids['has_ship'].map(lambda x: [x])\n",
    "# some files are too small/corrupt\n",
    "# unique_img_ids['file_size_kb'] = unique_img_ids['ImageId'].map(lambda c_img_id: \n",
    "#                                                                os.stat(os.path.join(train_image_dir, \n",
    "#                                                                                     c_img_id)).st_size/1024)\n",
    "# unique_img_ids = unique_img_ids[unique_img_ids['file_size_kb']>50] # keep only 50kb files\n",
    "# unique_img_ids['file_size_kb'].hist()\n",
    "unique_img_ids['ships'].hist()\n",
    "# unique_img_ids.sample(10)"
   ]
  },
  {
   "cell_type": "code",
   "execution_count": 10,
   "metadata": {
    "collapsed": false
   },
   "outputs": [
    {
     "data": {
      "text/plain": [
       "<matplotlib.axes._subplots.AxesSubplot at 0x10f221208>"
      ]
     },
     "execution_count": 10,
     "metadata": {},
     "output_type": "execute_result"
    },
    {
     "data": {
      "image/png": "[encoded data removed]",
      "text/plain": [
       "<Figure size 432x288 with 1 Axes>"
      ]
     },
     "metadata": {},
     "output_type": "display_data"
    }
   ],
   "source": [
    "submission_1['ships'] = submission_1['EncodedPixels'].map(lambda c_row: 1 if isinstance(c_row, str) else 0)\n",
    "unique_img_ids = submission_1.groupby('ImageId').agg({'ships': 'sum'}).reset_index()\n",
    "unique_img_ids['has_ship'] = unique_img_ids['ships'].map(lambda x: 1.0 if x>0 else 0.0)\n",
    "unique_img_ids['has_ship_vec'] = unique_img_ids['has_ship'].map(lambda x: [x])\n",
    "# some files are too small/corrupt\n",
    "# unique_img_ids['file_size_kb'] = unique_img_ids['ImageId'].map(lambda c_img_id: \n",
    "#                                                                os.stat(os.path.join(train_image_dir, \n",
    "#                                                                                     c_img_id)).st_size/1024)\n",
    "# unique_img_ids = unique_img_ids[unique_img_ids['file_size_kb']>50] # keep only 50kb files\n",
    "# unique_img_ids['file_size_kb'].hist()\n",
    "unique_img_ids['ships'].hist()"
   ]
  },
  {
   "cell_type": "markdown",
   "metadata": {
    "collapsed": true
   },
   "source": [
    "## Remove duplicate pixels"
   ]
  },
  {
   "cell_type": "code",
   "execution_count": null,
   "metadata": {
    "collapsed": true
   },
   "outputs": [],
   "source": [
    "def rle_encode(img):\n",
    "    '''\n",
    "    img: numpy array, 1 - mask, 0 - background\n",
    "    Returns run length as string formated\n",
    "    '''\n",
    "    pixels = img.T.flatten()\n",
    "    pixels = np.concatenate([[0], pixels, [0]])\n",
    "    runs = np.where(pixels[1:] != pixels[:-1])[0] + 1\n",
    "    runs[1::2] -= runs[::2]\n",
    "    return ' '.join(str(x) for x in runs)\n",
    "\n",
    "def rle_decode(mask_rle, shape=(768, 768)):\n",
    "    '''\n",
    "    mask_rle: run-length as string formated (start length)\n",
    "    shape: (height,width) of array to return\n",
    "    Returns numpy array, 1 - mask, 0 - background\n",
    "\n",
    "    '''\n",
    "    s = mask_rle.split()\n",
    "    starts, lengths = [np.asarray(x, dtype=int) for x in (s[0:][::2], s[1:][::2])]\n",
    "    starts -= 1\n",
    "    ends = starts + lengths\n",
    "    img = np.zeros(shape[0]*shape[1], dtype=np.uint8)\n",
    "    for lo, hi in zip(starts, ends):\n",
    "        img[lo:hi] = 1\n",
    "    return img.reshape(shape).T"
   ]
  },
  {
   "cell_type": "code",
   "execution_count": null,
   "metadata": {
    "collapsed": false
   },
   "outputs": [],
   "source": [
    "sub_df = pd.read_csv(\"~/Downloads/submission_20180825T0545.csv\")\n",
    "sub_df.describe()\n",
    "sub_df.head()"
   ]
  },
  {
   "cell_type": "code",
   "execution_count": null,
   "metadata": {
    "collapsed": false
   },
   "outputs": [],
   "source": [
    "multiple_instances_mask = sub_df.duplicated(subset=\"ImageId\", keep=False)\n",
    "multiple_instances_df = sub_df[multiple_instances_mask]\n",
    "multiple_instances_df.head()"
   ]
  },
  {
   "cell_type": "code",
   "execution_count": null,
   "metadata": {
    "collapsed": false
   },
   "outputs": [],
   "source": [
    "example_mask = multiple_instances_df[\"ImageId\"] == \"443cfdb6a.jpg\"\n",
    "image_id_df = multiple_instances_df[example_mask]\n",
    "print(image_id_df)"
   ]
  },
  {
   "cell_type": "code",
   "execution_count": null,
   "metadata": {
    "collapsed": false
   },
   "outputs": [],
   "source": [
    "unique_ids_multiple_instances = multiple_instances_df.ImageId.unique()\n",
    "print(\"Checking \", len(unique_ids_multiple_instances), \"unique images\")\n",
    "out_pred_rows = []\n",
    "for image_id in unique_ids_multiple_instances:\n",
    "    \n",
    "#     print(image_id)\n",
    "    # Image masks in RLE\n",
    "    img_masks = multiple_instances_df.loc[multiple_instances_df['ImageId'] == image_id, 'EncodedPixels'].tolist()\n",
    "#     print(\"Initial\", img_masks)\n",
    "    \n",
    "    # Mask array placeholder\n",
    "    mask_array = np.zeros([768, 768, len(img_masks)],dtype=np.uint8)\n",
    "\n",
    "    # Build mask array\n",
    "    for index, mask in enumerate(img_masks):\n",
    "        mask_array[:,:,index] = rle_decode(mask, [768, 768])\n",
    "\n",
    "#     print(\"mask_array shape\", mask_array.shape)\n",
    "    loop_range = np.array(mask_array).shape[-1] - 1\n",
    "#     print(\"loop_range\", np.arange(loop_range))\n",
    "    \n",
    "    # Check for overlap and remove overlapped pixels\n",
    "    for i in np.arange(loop_range):\n",
    "#         print(\"i: \", i)\n",
    "        mask = mask_array[:,:,i]\n",
    "        \n",
    "        loop_j = np.arange(loop_range-i)+i+1\n",
    "#         print(loop_j)\n",
    "        for j in loop_j:\n",
    "#             print(\"j: \", j)\n",
    "            next_mask = mask_array[:,:,j]\n",
    "            \n",
    "            index_of_overlap = np.logical_and(mask, next_mask)\n",
    "            if any(index_of_overlap.flatten()):\n",
    "                    print(\"OVERLAP \", image_id)\n",
    "                    next_mask[index_of_overlap] = 0\n",
    "#             else: \n",
    "#                 print(\"NO OVERLAP\")\n",
    "        \n",
    "    # Convert back into RLE encoding\n",
    "    re_encoded_to_rle_list = []\n",
    "    for i in np.arange(np.array(mask_array).shape[-1]):\n",
    "        boolean_mask = mask_array[:,:,i]\n",
    "        re_encoded_to_rle = rle_encode(boolean_mask)\n",
    "        re_encoded_to_rle_list.append(re_encoded_to_rle)\n",
    "\n",
    "#     print(\"---------------------\")\n",
    "\n",
    "#     print(\"Ending\", re_encoded_to_rle_list)\n",
    "    \n",
    "    if len(re_encoded_to_rle_list) == 0:\n",
    "        out_pred_rows += [{'ImageId': image_id, 'EncodedPixels': None}]\n",
    "    else:\n",
    "        for rle_mask in re_encoded_to_rle_list:\n",
    "            out_pred_rows += [{'ImageId': image_id, 'EncodedPixels': rle_mask}]\n",
    "            \n",
    "no_overlap_df = pd.DataFrame(out_pred_rows)[['ImageId', 'EncodedPixels']]\n",
    "    \n",
    "#     print(no_overlap_df)\n",
    "    \n",
    "    \n",
    "    "
   ]
  },
  {
   "cell_type": "code",
   "execution_count": null,
   "metadata": {
    "collapsed": false
   },
   "outputs": [],
   "source": [
    "        \n",
    "np.arange(2)+1\n",
    "        "
   ]
  },
  {
   "cell_type": "code",
   "execution_count": null,
   "metadata": {
    "collapsed": false
   },
   "outputs": [],
   "source": [
    "a1 = np.array([[1,1,0,0],\n",
    "               [1,1,0,0]])\n",
    "a2 = np.array([[0,0,0,0],\n",
    "               [0,1,1,0]])\n",
    "a3 = np.array([[0,1,1,0],\n",
    "               [0,0,0,0]])\n",
    "masks = np.zeros([2,4,3])\n",
    "masks[:,:,0] = a1\n",
    "masks[:,:,1] = a2\n",
    "masks[:,:,2] = a3\n",
    "masks.shape"
   ]
  },
  {
   "cell_type": "code",
   "execution_count": null,
   "metadata": {
    "collapsed": false
   },
   "outputs": [],
   "source": [
    "# print(\"Masks\", masks)\n",
    "for index, mask in enumerate(masks):\n",
    "    for next_mask in masks[index+1:]:\n",
    "        index_of_overlap = np.logical_and(mask, next_mask)\n",
    "        if any(index_of_overlap.flatten()):\n",
    "            next_mask[index_of_overlap] = 0\n",
    "    \n",
    "print(masks)"
   ]
  },
  {
   "cell_type": "code",
   "execution_count": null,
   "metadata": {
    "collapsed": false
   },
   "outputs": [],
   "source": [
    "index_of_overlap = np.logical_and(a1,a2,a3)\n",
    "index_of_overlap\n",
    "\n",
    "a2[index_of_overlap] = 0\n",
    "a3[index_of_overlap] = 0"
   ]
  },
  {
   "cell_type": "code",
   "execution_count": null,
   "metadata": {
    "collapsed": false
   },
   "outputs": [],
   "source": [
    "print(a1)\n",
    "print(a2)\n",
    "print(a3)"
   ]
  },
  {
   "cell_type": "code",
   "execution_count": null,
   "metadata": {
    "collapsed": true
   },
   "outputs": [],
   "source": []
  }
 ],
 "metadata": {
  "kernelspec": {
   "display_name": "Python 3",
   "language": "python",
   "name": "python3"
  },
  "language_info": {
   "codemirror_mode": {
    "name": "ipython",
    "version": 3
   },
   "file_extension": ".py",
   "mimetype": "text/x-python",
   "name": "python",
   "nbconvert_exporter": "python",
   "pygments_lexer": "ipython3",
   "version": "3.6.3"
  }
 },
 "nbformat": 4,
 "nbformat_minor": 2
}
